{
 "cells": [
  {
   "cell_type": "code",
   "execution_count": 12,
   "metadata": {
    "collapsed": true
   },
   "outputs": [],
   "source": [
    "# boas práticas: criar uma célula com todas as bibliotecas necessárias\n",
    "# importando as bibliotecas necessárias\n",
    "import pandas as pd\n",
    "import matplotlib.pyplot as plt\n",
    "import seaborn as sns\n",
    "import numpy as np"
   ]
  },
  {
   "cell_type": "code",
   "execution_count": null,
   "metadata": {},
   "outputs": [],
   "source": [
    "# Turmas 2014.1, 2014.2, 2015.1, 2015.2, 2016.1, 2016.2, 2017.1, 2017.2\n",
    "# http://dados.ufrn.br/dataset/turmas\n",
    "\n",
    "# turmas\n",
    "turmas_url = [\n",
    "    'http://bit.do/turmas_ufrn_2014_1',\n",
    "    'http://bit.do/turmas_ufrn_2014_2',\n",
    "    'http://bit.do/turmas_ufrn_2015_1',\n",
    "    'http://bit.do/turmas_ufrn_2015_2',\n",
    "    'http://bit.do/turmas_ufrn_2016_1',\n",
    "    'http://bit.do/turmas_ufrn_2016_2',\n",
    "    'http://bit.do/turmas_ufrn_2017_1',\n",
    "    'http://bit.do/turmas_ufrn_2017_2'\n",
    "]\n",
    "\n",
    "# matrículas em componentes em 2017.2\n",
    "notas_url = [\n",
    "    'http://bit.do/notas_ufrn_2014_1',\n",
    "    'http://bit.do/notas_ufrn_2014_2',\n",
    "    'http://bit.do/notas_ufrn_2015_1',\n",
    "    'http://bit.do/notas_ufrn_2015_2',\n",
    "    'http://bit.do/notas_ufrn_2016_1',\n",
    "    'http://bit.do/notas_ufrn_2016_2',\n",
    "    'http://bit.do/notas_ufrn_2017_1',\n",
    "    'http://bit.do/notas_ufrn_2017_2'\n",
    "]\n",
    "\n",
    "# componentes curriculares presenciais\n",
    "disciplinas_url = 'http://bit.do/componentes_curriculares_ufrn'\n",
    "\n",
    "# docentes da ufrn atualizado em 2018\n",
    "#docentes_url = 'http://bit.do/docentes_ufrn_2018'\n",
    "\n",
    "# turmas\n",
    "turmas = []\n",
    "for i in range(len(turmas_url)):\n",
    "    turmas.insert(i, pd.read_csv(turmas_url[i], sep=';'))\n",
    "\n",
    "# matriculas em componentes\n",
    "notas = []\n",
    "for i in range(len(notas_url)):\n",
    "    notas.insert(i, pd.read_csv(notas_url[i], sep=';'))\n",
    "\n",
    "# componentes curriculares presenciais\n",
    "# por alguma razão ou outra, esse dataset tinha algum lixo em linhas que ocasionava \n",
    "# erros de leitura, dessa forma foi realizado um filtro apenas por colunas mais importantes\n",
    "disciplinas = pd.read_csv(disciplinas_url, \n",
    "                          sep=';', \n",
    "                          usecols=[\"id_componente\",\"codigo\",\"nivel\",\"nome\",\"unidade_responsavel\"])\n",
    "\n",
    "#docentes = pd.read_csv(docentes_url, sep=';')"
   ]
  }
 ],
 "metadata": {
  "kernelspec": {
   "display_name": "Python 3",
   "language": "python",
   "name": "python3"
  },
  "language_info": {
   "codemirror_mode": {
    "name": "ipython",
    "version": 3
   },
   "file_extension": ".py",
   "mimetype": "text/x-python",
   "name": "python",
   "nbconvert_exporter": "python",
   "pygments_lexer": "ipython3",
   "version": "3.6.2"
  }
 },
 "nbformat": 4,
 "nbformat_minor": 2
}
